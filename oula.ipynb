{
  "nbformat": 4,
  "nbformat_minor": 0,
  "metadata": {
    "colab": {
      "name": "si.ipynb",
      "provenance": [],
      "toc_visible": true,
      "authorship_tag": "ABX9TyP4ywP+g52hGA0vnKUTC+Vi",
      "include_colab_link": true
    },
    "kernelspec": {
      "name": "python3",
      "display_name": "Python 3"
    }
  },
  "cells": [
    {
      "cell_type": "markdown",
      "metadata": {
        "id": "view-in-github",
        "colab_type": "text"
      },
      "source": [
        "<a href=\"https://colab.research.google.com/github/vcwild/oula-score/blob/main/oula.ipynb\" target=\"_parent\"><img src=\"https://colab.research.google.com/assets/colab-badge.svg\" alt=\"Open In Colab\"/></a>"
      ]
    },
    {
      "cell_type": "markdown",
      "metadata": {
        "id": "B7AWJJCnOKA3"
      },
      "source": [
        "# Setup"
      ]
    },
    {
      "cell_type": "code",
      "metadata": {
        "id": "u7gcWJoDhHsM"
      },
      "source": [
        "import numpy as np\n",
        "import pandas as pd\n",
        "import matplotlib.pyplot as plt\n",
        "import seaborn as sns"
      ],
      "execution_count": 1,
      "outputs": []
    },
    {
      "cell_type": "code",
      "metadata": {
        "id": "XcIBwsj0hRAz",
        "colab": {
          "base_uri": "https://localhost:8080/"
        },
        "outputId": "96cbe4a6-57b2-4c49-cc57-46e35147e5c7"
      },
      "source": [
        "# ! wget https://analyse.kmi.open.ac.uk/open_dataset/download --no-check-certificate && mv download download.zip && unzip download.zip && rm download.zip"
      ],
      "execution_count": 10,
      "outputs": [
        {
          "output_type": "stream",
          "text": [
            "Archive:  download.zip\n",
            "  inflating: studentAssessment.csv   \n",
            "  inflating: studentVle.csv          \n",
            "  inflating: assessments.csv         \n",
            "  inflating: courses.csv             \n",
            "  inflating: studentInfo.csv         \n",
            "  inflating: studentRegistration.csv  \n",
            "  inflating: vle.csv                 \n"
          ],
          "name": "stdout"
        }
      ]
    },
    {
      "cell_type": "code",
      "metadata": {
        "id": "5lUHpt2whR2o"
      },
      "source": [
        "assessments = pd.read_csv('assessments.csv')\n",
        "courses = pd.read_csv('courses.csv')\n",
        "student_assessment = pd.read_csv('studentAssessment.csv')\n",
        "student_info = pd.read_csv('studentInfo.csv')\n",
        "student_registration = pd.read_csv('studentRegistration.csv')\n",
        "student_vle = pd.read_csv('studentVle.csv')\n",
        "vle = pd.read_csv('vle.csv')"
      ],
      "execution_count": 2,
      "outputs": []
    },
    {
      "cell_type": "code",
      "metadata": {
        "id": "XGEr80raxNYd"
      },
      "source": [
        "start_date = abs(min(student_vle.date))\n",
        "student_grouped = student_vle.groupby(['id_student', 'date']).sum().drop(columns='id_site')\n",
        "student_reset = student_grouped.reset_index()\n",
        "student_reset['date_fix'] = [x + start_date for x in student_reset.date]\n",
        "student_reset['week'] = (student_reset['date_fix'] / 7) + 1\n",
        "student_reset['week'] = student_reset['week'].apply(np.floor)\n",
        "student_sum_week = student_reset.groupby(['id_student', 'week']).sum().drop(columns=['date', 'date_fix']).reset_index()"
      ],
      "execution_count": 3,
      "outputs": []
    },
    {
      "cell_type": "code",
      "metadata": {
        "id": "PE4pXPKQzyhi"
      },
      "source": [
        "assessments_merge = pd.merge(assessments, student_assessment, how='left', left_on=('id_assessment'), right_on=('id_assessment'))\n",
        "courses_assessments = pd.merge(courses, assessments_merge, how='left', left_on=('code_module', 'code_presentation'), right_on=('code_module', 'code_presentation'))"
      ],
      "execution_count": 4,
      "outputs": []
    },
    {
      "cell_type": "code",
      "metadata": {
        "id": "Ud8zqckZ3U_K"
      },
      "source": [
        "courses_assessments['date_fix'] = [x + start_date for x in courses_assessments.date]\n",
        "courses_assessments['week'] = (courses_assessments['date_fix'] / 7) + 1\n",
        "courses_assessments['week'] = courses_assessments['week'].apply(np.floor)"
      ],
      "execution_count": 5,
      "outputs": []
    },
    {
      "cell_type": "code",
      "metadata": {
        "colab": {
          "base_uri": "https://localhost:8080/",
          "height": 204
        },
        "id": "IgJ2yccx6QT2",
        "outputId": "3b775d08-5129-4bb1-d4f3-0fef32026519"
      },
      "source": [
        "df_aux = pd.merge(student_sum_week, courses_assessments, how='left', left_on=('id_student', 'week'), right_on=('id_student', 'week'))\n",
        "df_aux['click_cumsum'] = df_aux.groupby('id_student').sum_click.cumsum()\n",
        "df_grouped = df_aux.groupby(['id_student', 'id_assessment']).sum()\n",
        "df_grouped['click_cumsum_1'] = df_grouped.click_cumsum.shift(1)\n",
        "df_grouped['diff'] = df_grouped['click_cumsum'] - df_grouped['click_cumsum_1']\n",
        "df_grouped['diff'] = df_grouped['diff'].clip(lower=0).replace(0, np.nan)\n",
        "df_grouped['click_cumsum_1'] = df_grouped['click_cumsum_1'].replace(0, np.nan)\n",
        "df_grouped['mean'] = df_grouped[['click_cumsum', 'click_cumsum_1']].mean(axis=1, skipna=True)\n",
        "df = df_grouped.reset_index()\n",
        "df.head()"
      ],
      "execution_count": 6,
      "outputs": [
        {
          "output_type": "execute_result",
          "data": {
            "text/html": [
              "<div>\n",
              "<style scoped>\n",
              "    .dataframe tbody tr th:only-of-type {\n",
              "        vertical-align: middle;\n",
              "    }\n",
              "\n",
              "    .dataframe tbody tr th {\n",
              "        vertical-align: top;\n",
              "    }\n",
              "\n",
              "    .dataframe thead th {\n",
              "        text-align: right;\n",
              "    }\n",
              "</style>\n",
              "<table border=\"1\" class=\"dataframe\">\n",
              "  <thead>\n",
              "    <tr style=\"text-align: right;\">\n",
              "      <th></th>\n",
              "      <th>id_student</th>\n",
              "      <th>id_assessment</th>\n",
              "      <th>week</th>\n",
              "      <th>sum_click</th>\n",
              "      <th>module_presentation_length</th>\n",
              "      <th>date</th>\n",
              "      <th>weight</th>\n",
              "      <th>date_submitted</th>\n",
              "      <th>is_banked</th>\n",
              "      <th>score</th>\n",
              "      <th>date_fix</th>\n",
              "      <th>click_cumsum</th>\n",
              "      <th>click_cumsum_1</th>\n",
              "      <th>diff</th>\n",
              "      <th>mean</th>\n",
              "    </tr>\n",
              "  </thead>\n",
              "  <tbody>\n",
              "    <tr>\n",
              "      <th>0</th>\n",
              "      <td>6516</td>\n",
              "      <td>1758.0</td>\n",
              "      <td>7.0</td>\n",
              "      <td>101</td>\n",
              "      <td>269.0</td>\n",
              "      <td>19.0</td>\n",
              "      <td>10.0</td>\n",
              "      <td>17.0</td>\n",
              "      <td>0.0</td>\n",
              "      <td>60.0</td>\n",
              "      <td>44.0</td>\n",
              "      <td>653</td>\n",
              "      <td>NaN</td>\n",
              "      <td>NaN</td>\n",
              "      <td>653.0</td>\n",
              "    </tr>\n",
              "    <tr>\n",
              "      <th>1</th>\n",
              "      <td>6516</td>\n",
              "      <td>1759.0</td>\n",
              "      <td>12.0</td>\n",
              "      <td>31</td>\n",
              "      <td>269.0</td>\n",
              "      <td>54.0</td>\n",
              "      <td>20.0</td>\n",
              "      <td>51.0</td>\n",
              "      <td>0.0</td>\n",
              "      <td>48.0</td>\n",
              "      <td>79.0</td>\n",
              "      <td>1011</td>\n",
              "      <td>653.0</td>\n",
              "      <td>358.0</td>\n",
              "      <td>832.0</td>\n",
              "    </tr>\n",
              "    <tr>\n",
              "      <th>2</th>\n",
              "      <td>6516</td>\n",
              "      <td>1760.0</td>\n",
              "      <td>21.0</td>\n",
              "      <td>69</td>\n",
              "      <td>269.0</td>\n",
              "      <td>117.0</td>\n",
              "      <td>20.0</td>\n",
              "      <td>116.0</td>\n",
              "      <td>0.0</td>\n",
              "      <td>63.0</td>\n",
              "      <td>142.0</td>\n",
              "      <td>1435</td>\n",
              "      <td>1011.0</td>\n",
              "      <td>424.0</td>\n",
              "      <td>1223.0</td>\n",
              "    </tr>\n",
              "    <tr>\n",
              "      <th>3</th>\n",
              "      <td>6516</td>\n",
              "      <td>1761.0</td>\n",
              "      <td>28.0</td>\n",
              "      <td>98</td>\n",
              "      <td>269.0</td>\n",
              "      <td>166.0</td>\n",
              "      <td>20.0</td>\n",
              "      <td>164.0</td>\n",
              "      <td>0.0</td>\n",
              "      <td>61.0</td>\n",
              "      <td>191.0</td>\n",
              "      <td>1956</td>\n",
              "      <td>1435.0</td>\n",
              "      <td>521.0</td>\n",
              "      <td>1695.5</td>\n",
              "    </tr>\n",
              "    <tr>\n",
              "      <th>4</th>\n",
              "      <td>6516</td>\n",
              "      <td>1762.0</td>\n",
              "      <td>35.0</td>\n",
              "      <td>49</td>\n",
              "      <td>269.0</td>\n",
              "      <td>215.0</td>\n",
              "      <td>30.0</td>\n",
              "      <td>210.0</td>\n",
              "      <td>0.0</td>\n",
              "      <td>77.0</td>\n",
              "      <td>240.0</td>\n",
              "      <td>2494</td>\n",
              "      <td>1956.0</td>\n",
              "      <td>538.0</td>\n",
              "      <td>2225.0</td>\n",
              "    </tr>\n",
              "  </tbody>\n",
              "</table>\n",
              "</div>"
            ],
            "text/plain": [
              "   id_student  id_assessment  week  ...  click_cumsum_1   diff    mean\n",
              "0        6516         1758.0   7.0  ...             NaN    NaN   653.0\n",
              "1        6516         1759.0  12.0  ...           653.0  358.0   832.0\n",
              "2        6516         1760.0  21.0  ...          1011.0  424.0  1223.0\n",
              "3        6516         1761.0  28.0  ...          1435.0  521.0  1695.5\n",
              "4        6516         1762.0  35.0  ...          1956.0  538.0  2225.0\n",
              "\n",
              "[5 rows x 15 columns]"
            ]
          },
          "metadata": {
            "tags": []
          },
          "execution_count": 6
        }
      ]
    },
    {
      "cell_type": "code",
      "metadata": {
        "colab": {
          "base_uri": "https://localhost:8080/"
        },
        "id": "goKk85ffbU11",
        "outputId": "c7a694a2-737d-4527-a60b-8c7828a56d80"
      },
      "source": [
        "df.corr(method='pearson')['score'].drop(index='score').sort_values(ascending=False)"
      ],
      "execution_count": 16,
      "outputs": [
        {
          "output_type": "execute_result",
          "data": {
            "text/plain": [
              "click_cumsum                  0.142459\n",
              "mean                          0.133197\n",
              "click_cumsum_1                0.112654\n",
              "diff                          0.097088\n",
              "week                          0.072987\n",
              "date_fix                      0.072741\n",
              "date                          0.072741\n",
              "id_assessment                 0.062106\n",
              "sum_click                     0.051034\n",
              "id_student                    0.024027\n",
              "module_presentation_length    0.017289\n",
              "is_banked                    -0.011192\n",
              "date_submitted               -0.015053\n",
              "weight                       -0.150011\n",
              "Name: score, dtype: float64"
            ]
          },
          "metadata": {
            "tags": []
          },
          "execution_count": 16
        }
      ]
    },
    {
      "cell_type": "code",
      "metadata": {
        "colab": {
          "base_uri": "https://localhost:8080/"
        },
        "id": "Oy6K32LEdzbq",
        "outputId": "c12d0dc2-3311-485f-a27a-f359cde45062"
      },
      "source": [
        "df.corr(method='spearman')['score'].drop(index='score').sort_values(ascending=False)"
      ],
      "execution_count": 17,
      "outputs": [
        {
          "output_type": "execute_result",
          "data": {
            "text/plain": [
              "click_cumsum                  0.157100\n",
              "mean                          0.143781\n",
              "click_cumsum_1                0.130427\n",
              "date_fix                      0.069887\n",
              "date                          0.069887\n",
              "diff                          0.068520\n",
              "week                          0.067891\n",
              "sum_click                     0.056537\n",
              "id_student                    0.052174\n",
              "id_assessment                 0.049779\n",
              "module_presentation_length    0.025877\n",
              "is_banked                    -0.016452\n",
              "date_submitted               -0.022736\n",
              "weight                       -0.179645\n",
              "Name: score, dtype: float64"
            ]
          },
          "metadata": {
            "tags": []
          },
          "execution_count": 17
        }
      ]
    },
    {
      "cell_type": "markdown",
      "metadata": {
        "id": "q2ajmPRmNDTn"
      },
      "source": [
        "# Preprocessing"
      ]
    },
    {
      "cell_type": "code",
      "metadata": {
        "id": "FgcqMKhXNFXT"
      },
      "source": [
        "df_prep = df.replace(np.nan, 0)"
      ],
      "execution_count": 7,
      "outputs": []
    },
    {
      "cell_type": "markdown",
      "metadata": {
        "id": "wB-pszIcJN2p"
      },
      "source": [
        "# ML"
      ]
    },
    {
      "cell_type": "markdown",
      "metadata": {
        "id": "4Q3cqayLJ5JK"
      },
      "source": [
        "## Baseline model"
      ]
    },
    {
      "cell_type": "code",
      "metadata": {
        "id": "lOWWHyiDJy76"
      },
      "source": [
        "features = ['id_student', 'click_cumsum', 'mean', 'click_cumsum_1', 'weight', 'is_banked', 'diff', 'week']\n",
        "\n",
        "X = df_prep[features]\n",
        "y = df_prep.score"
      ],
      "execution_count": 8,
      "outputs": []
    },
    {
      "cell_type": "code",
      "metadata": {
        "id": "ds8XQ3jOZQ1f"
      },
      "source": [
        "X_prep = pd.get_dummies(X, columns=['id_student'])"
      ],
      "execution_count": 9,
      "outputs": []
    },
    {
      "cell_type": "markdown",
      "metadata": {
        "id": "YQchVZmqJPih"
      },
      "source": [
        "## Train-test split"
      ]
    },
    {
      "cell_type": "code",
      "metadata": {
        "id": "ILof_LPcJLl4"
      },
      "source": [
        "from sklearn.model_selection import train_test_split as tts\n",
        "\n",
        "X_train, X_test, y_train, y_test = tts(X_prep, y, train_size=0.5, random_state=42)"
      ],
      "execution_count": 10,
      "outputs": []
    },
    {
      "cell_type": "code",
      "metadata": {
        "id": "MHKDB-kWTcy6"
      },
      "source": [
        "# from sklearn.feature_selection import SelectFromModel\n",
        "# from sklearn.metrics import mean_squared_error\n",
        "# from sklearn.linear_model import LinearRegression, Ridge, Lasso\n",
        "# from sklearn.ensemble import RandomForestRegressor\n",
        "\n",
        "# # Feature Selection\n",
        "# k_vs_score=[]\n",
        "# seed = 42\n",
        "\n",
        "# for k in range(2, X_train.shape[1], 2):\n",
        "#     # selector_model = LinearRegression(normalize=True)\n",
        "#     # selector_model = Ridge(alpha=0.1, normalize=True, random_state=seed)\n",
        "#     # selector_model = Lasso(alpha=1.,normalize=True, random_state=seed)\n",
        "#     selector_model = RandomForestRegressor(criterion='mse', random_state=seed, n_jobs=-1)\n",
        "\n",
        "#     selector = SelectFromModel(selector_model, max_features=k, threshold=-np.inf)\n",
        "    \n",
        "#     selector.fit(X_train, y_train)\n",
        "#     X_train_2 = selector.transform(X_train)\n",
        "\n",
        "#     X_test_2 = selector.transform(X_test)\n",
        "\n",
        "#     model = RandomForestRegressor(criterion='mse', n_estimators=100, random_state=seed, n_jobs=-1, max_depth=9)\n",
        "#     model.fit(X_train_2, y_train)\n",
        "\n",
        "#     p = model.predict(X_test_2)\n",
        "\n",
        "#     score = mean_squared_error(y_test, p, squared=False)\n",
        "#     print(f\"k = {k}; MSE = {score}\")\n",
        "\n",
        "#     mask = selector.get_support()\n",
        "#     print(X_train.columns[mask])\n",
        "#     k_vs_score.append(score)"
      ],
      "execution_count": null,
      "outputs": []
    },
    {
      "cell_type": "code",
      "metadata": {
        "id": "Xk4QXv1TOvKy"
      },
      "source": [
        "# pd.Series(\n",
        "#   k_vs_score, \n",
        "#   index = range(initial_features, max_n_features, step)).plot(figsize=(6,4), \n",
        "#   xticks=range(initial_features, max_n_features, step),\n",
        "# )\n",
        "# plt.xlabel('features')\n",
        "# plt.ylabel('MSE')\n",
        "# plt.title('perda por MSE');"
      ],
      "execution_count": null,
      "outputs": []
    },
    {
      "cell_type": "code",
      "metadata": {
        "id": "U-GMw8EriVPJ"
      },
      "source": [
        "y_train_valid = y_train[y_train != 0]\n",
        "X_train_valid =  X_train[y_train != 0]"
      ],
      "execution_count": 11,
      "outputs": []
    },
    {
      "cell_type": "code",
      "metadata": {
        "id": "aTaSYbRsPuz9"
      },
      "source": [
        "from sklearn.tree import DecisionTreeRegressor\n",
        "\n",
        "dt = DecisionTreeRegressor(random_state=0, criterion='mse', max_depth=9)\n",
        "\n",
        "dt.fit(X_train_valid, y_train_valid)"
      ],
      "execution_count": null,
      "outputs": []
    },
    {
      "cell_type": "code",
      "metadata": {
        "id": "LHYRZ4bd6tOo"
      },
      "source": [
        "results = dt.predict(X_test)"
      ],
      "execution_count": null,
      "outputs": []
    },
    {
      "cell_type": "code",
      "metadata": {
        "id": "FeeeTemCbKYm"
      },
      "source": [
        "y_metrics = pd.DataFrame()\n",
        "y_metrics['predict'] = results\n",
        "y_metrics['test'] = y_test\n",
        "y_metrics['test'] = y_metrics.test.replace(np.nan, 0)\n",
        "y_metrics['diff'] = y_metrics.predict - y_metrics.test"
      ],
      "execution_count": null,
      "outputs": []
    },
    {
      "cell_type": "code",
      "metadata": {
        "id": "3rGG4C5hgRC5"
      },
      "source": [
        "y_metrics.test"
      ],
      "execution_count": null,
      "outputs": []
    },
    {
      "cell_type": "code",
      "metadata": {
        "id": "mGbjmsMBbMJ0"
      },
      "source": [
        "y_metrics['diff'].abs().mean()"
      ],
      "execution_count": null,
      "outputs": []
    },
    {
      "cell_type": "code",
      "metadata": {
        "id": "drAiaxSNcdQF"
      },
      "source": [
        "y_metrics"
      ],
      "execution_count": null,
      "outputs": []
    },
    {
      "cell_type": "code",
      "metadata": {
        "id": "spcDQdww7axO"
      },
      "source": [
        "# valores únicos\n",
        "df.nunique()"
      ],
      "execution_count": null,
      "outputs": []
    },
    {
      "cell_type": "code",
      "metadata": {
        "id": "44r8OUKz_yO9"
      },
      "source": [
        "def score_comparison(by):\n",
        "  grouped = df.groupby(f'{by}').mean()['score']\n",
        "  print(grouped, '\\n')\n",
        "  sns.barplot(x=grouped.index, y=grouped.values, palette='Blues')\n",
        "  plt.xticks(rotation=45)\n",
        "  plt.title(f'Comparação das notas para {by}')\n",
        "  plt.show()"
      ],
      "execution_count": null,
      "outputs": []
    },
    {
      "cell_type": "code",
      "metadata": {
        "id": "IbCOT-rf8sMp"
      },
      "source": [
        "score_comparison('gender')"
      ],
      "execution_count": null,
      "outputs": []
    },
    {
      "cell_type": "code",
      "metadata": {
        "id": "07JOLupT9IoE"
      },
      "source": [
        "score_comparison('highest_education')"
      ],
      "execution_count": null,
      "outputs": []
    },
    {
      "cell_type": "code",
      "metadata": {
        "id": "dubCA_KI9QKV"
      },
      "source": [
        "score_comparison('age_band')"
      ],
      "execution_count": null,
      "outputs": []
    },
    {
      "cell_type": "code",
      "metadata": {
        "id": "NK3wUaJPAt6n"
      },
      "source": [
        "score_comparison('region')"
      ],
      "execution_count": null,
      "outputs": []
    },
    {
      "cell_type": "code",
      "metadata": {
        "id": "ALKSDE6DA4Y7"
      },
      "source": [
        "score_comparison('imd_band')"
      ],
      "execution_count": null,
      "outputs": []
    },
    {
      "cell_type": "code",
      "metadata": {
        "id": "iJKzyWrBSyYF"
      },
      "source": [
        "score_comparison('sum_click')"
      ],
      "execution_count": null,
      "outputs": []
    },
    {
      "cell_type": "code",
      "metadata": {
        "id": "yeqzB-ieTFzJ"
      },
      "source": [
        ""
      ],
      "execution_count": null,
      "outputs": []
    }
  ]
}